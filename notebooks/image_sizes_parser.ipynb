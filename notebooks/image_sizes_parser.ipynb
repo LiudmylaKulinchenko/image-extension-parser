{
 "cells": [
  {
   "cell_type": "markdown",
   "source": [
    "# Get images sizes and add them to the sheet"
   ],
   "metadata": {
    "collapsed": false
   }
  },
  {
   "cell_type": "code",
   "execution_count": 22,
   "outputs": [],
   "source": [
    "import pandas as pd\n",
    "import asyncio\n",
    "from io import BytesIO\n",
    "from datetime import datetime\n",
    "\n",
    "import aiohttp\n",
    "from PIL import Image"
   ],
   "metadata": {
    "collapsed": false
   }
  },
  {
   "cell_type": "code",
   "execution_count": 23,
   "outputs": [],
   "source": [
    "SHEET_ID = \"1QX2IhFyYmGDFMvovw2WFz3wAT4piAZ_8hi5Lzp7LjV0\"\n",
    "SHEET_NAME = \"feed\"\n",
    "NEW_SHEET_FILE = \"ParserImageSize.xlsx\"\n",
    "COLUMN_NAME = \"SIZE\""
   ],
   "metadata": {
    "collapsed": false
   }
  },
  {
   "cell_type": "code",
   "execution_count": 24,
   "outputs": [],
   "source": [
    "start = datetime.now()"
   ],
   "metadata": {
    "collapsed": false
   }
  },
  {
   "cell_type": "markdown",
   "source": [
    "Get data from sheet"
   ],
   "metadata": {
    "collapsed": false
   }
  },
  {
   "cell_type": "code",
   "execution_count": 25,
   "outputs": [
    {
     "data": {
      "text/plain": "                                           image_url     SIZE\n0  https://data.sanitino.eu/PRODUCT-33916/8607663...  575x860\n1  https://data.sanitino.eu/PRODUCT-62434/f7aa3c2...      NaN\n2  https://data.sanitino.eu/PRODUCT-33915/8607663...      NaN\n3  https://data.sanitino.eu/PRODUCT-62426/506d67b...      NaN\n4  https://data.sanitino.eu/PRODUCT-33893/ccd99b4...      NaN",
      "text/html": "<div>\n<style scoped>\n    .dataframe tbody tr th:only-of-type {\n        vertical-align: middle;\n    }\n\n    .dataframe tbody tr th {\n        vertical-align: top;\n    }\n\n    .dataframe thead th {\n        text-align: right;\n    }\n</style>\n<table border=\"1\" class=\"dataframe\">\n  <thead>\n    <tr style=\"text-align: right;\">\n      <th></th>\n      <th>image_url</th>\n      <th>SIZE</th>\n    </tr>\n  </thead>\n  <tbody>\n    <tr>\n      <th>0</th>\n      <td>https://data.sanitino.eu/PRODUCT-33916/8607663...</td>\n      <td>575x860</td>\n    </tr>\n    <tr>\n      <th>1</th>\n      <td>https://data.sanitino.eu/PRODUCT-62434/f7aa3c2...</td>\n      <td>NaN</td>\n    </tr>\n    <tr>\n      <th>2</th>\n      <td>https://data.sanitino.eu/PRODUCT-33915/8607663...</td>\n      <td>NaN</td>\n    </tr>\n    <tr>\n      <th>3</th>\n      <td>https://data.sanitino.eu/PRODUCT-62426/506d67b...</td>\n      <td>NaN</td>\n    </tr>\n    <tr>\n      <th>4</th>\n      <td>https://data.sanitino.eu/PRODUCT-33893/ccd99b4...</td>\n      <td>NaN</td>\n    </tr>\n  </tbody>\n</table>\n</div>"
     },
     "execution_count": 25,
     "metadata": {},
     "output_type": "execute_result"
    }
   ],
   "source": [
    "sheet_url = (\n",
    "    f\"https://docs.google.com/spreadsheets/d/\"\n",
    "    f\"{SHEET_ID}/gviz/tq?tqx=out:csv&sheet={SHEET_NAME}\"\n",
    ")\n",
    "dataframe = pd.read_csv(sheet_url)\n",
    "dataframe.head()"
   ],
   "metadata": {
    "collapsed": false
   }
  },
  {
   "cell_type": "code",
   "execution_count": 26,
   "outputs": [
    {
     "data": {
      "text/plain": "46888"
     },
     "execution_count": 26,
     "metadata": {},
     "output_type": "execute_result"
    }
   ],
   "source": [
    "image_urls_dataframe = dataframe[\"image_url\"]\n",
    "dataframe_size = image_urls_dataframe.size\n",
    "dataframe_size"
   ],
   "metadata": {
    "collapsed": false
   }
  },
  {
   "cell_type": "markdown",
   "source": [
    "Divide the urls into dictionaries (packs) <= 10_000 each & get image sizes"
   ],
   "metadata": {
    "collapsed": false
   }
  },
  {
   "cell_type": "code",
   "execution_count": 29,
   "outputs": [
    {
     "ename": "CancelledError",
     "evalue": "",
     "output_type": "error",
     "traceback": [
      "\u001B[1;31m---------------------------------------------------------------------------\u001B[0m",
      "\u001B[1;31mCancelledError\u001B[0m                            Traceback (most recent call last)",
      "Cell \u001B[1;32mIn[29], line 10\u001B[0m, in \u001B[0;36mget_size\u001B[1;34m(row, url, session)\u001B[0m\n\u001B[0;32m      8\u001B[0m     \u001B[38;5;28;01mreturn\u001B[39;00m {row: \u001B[38;5;124m\"\u001B[39m\u001B[38;5;124mImageNotFound\u001B[39m\u001B[38;5;124m\"\u001B[39m}\n\u001B[1;32m---> 10\u001B[0m content \u001B[38;5;241m=\u001B[39m \u001B[38;5;28;01mawait\u001B[39;00m response\u001B[38;5;241m.\u001B[39mcontent\u001B[38;5;241m.\u001B[39mread()\n\u001B[0;32m     11\u001B[0m \u001B[38;5;28;01mawait\u001B[39;00m asyncio\u001B[38;5;241m.\u001B[39msleep(\u001B[38;5;241m0\u001B[39m)\n",
      "File \u001B[1;32mD:\\test-tasks\\image-sizes-parser\\venv\\lib\\site-packages\\aiohttp\\streams.py:375\u001B[0m, in \u001B[0;36mStreamReader.read\u001B[1;34m(self, n)\u001B[0m\n\u001B[0;32m    374\u001B[0m \u001B[38;5;28;01mwhile\u001B[39;00m \u001B[38;5;28;01mTrue\u001B[39;00m:\n\u001B[1;32m--> 375\u001B[0m     block \u001B[38;5;241m=\u001B[39m \u001B[38;5;28;01mawait\u001B[39;00m \u001B[38;5;28mself\u001B[39m\u001B[38;5;241m.\u001B[39mreadany()\n\u001B[0;32m    376\u001B[0m     \u001B[38;5;28;01mif\u001B[39;00m \u001B[38;5;129;01mnot\u001B[39;00m block:\n",
      "File \u001B[1;32mD:\\test-tasks\\image-sizes-parser\\venv\\lib\\site-packages\\aiohttp\\streams.py:397\u001B[0m, in \u001B[0;36mStreamReader.readany\u001B[1;34m(self)\u001B[0m\n\u001B[0;32m    396\u001B[0m \u001B[38;5;28;01mwhile\u001B[39;00m \u001B[38;5;129;01mnot\u001B[39;00m \u001B[38;5;28mself\u001B[39m\u001B[38;5;241m.\u001B[39m_buffer \u001B[38;5;129;01mand\u001B[39;00m \u001B[38;5;129;01mnot\u001B[39;00m \u001B[38;5;28mself\u001B[39m\u001B[38;5;241m.\u001B[39m_eof:\n\u001B[1;32m--> 397\u001B[0m     \u001B[38;5;28;01mawait\u001B[39;00m \u001B[38;5;28mself\u001B[39m\u001B[38;5;241m.\u001B[39m_wait(\u001B[38;5;124m\"\u001B[39m\u001B[38;5;124mreadany\u001B[39m\u001B[38;5;124m\"\u001B[39m)\n\u001B[0;32m    399\u001B[0m \u001B[38;5;28;01mreturn\u001B[39;00m \u001B[38;5;28mself\u001B[39m\u001B[38;5;241m.\u001B[39m_read_nowait(\u001B[38;5;241m-\u001B[39m\u001B[38;5;241m1\u001B[39m)\n",
      "File \u001B[1;32mD:\\test-tasks\\image-sizes-parser\\venv\\lib\\site-packages\\aiohttp\\streams.py:304\u001B[0m, in \u001B[0;36mStreamReader._wait\u001B[1;34m(self, func_name)\u001B[0m\n\u001B[0;32m    303\u001B[0m     \u001B[38;5;28;01mwith\u001B[39;00m \u001B[38;5;28mself\u001B[39m\u001B[38;5;241m.\u001B[39m_timer:\n\u001B[1;32m--> 304\u001B[0m         \u001B[38;5;28;01mawait\u001B[39;00m waiter\n\u001B[0;32m    305\u001B[0m \u001B[38;5;28;01melse\u001B[39;00m:\n",
      "\u001B[1;31mCancelledError\u001B[0m: ",
      "\nDuring handling of the above exception, another exception occurred:\n",
      "\u001B[1;31mCancelledError\u001B[0m                            Traceback (most recent call last)",
      "Cell \u001B[1;32mIn[29], line 44\u001B[0m\n\u001B[0;32m     42\u001B[0m \u001B[38;5;28;01mfor\u001B[39;00m i \u001B[38;5;129;01min\u001B[39;00m \u001B[38;5;28mrange\u001B[39m(packs_amount):\n\u001B[0;32m     43\u001B[0m     urls_pack \u001B[38;5;241m=\u001B[39m image_urls_dataframe[pack_size \u001B[38;5;241m*\u001B[39m i:pack_size \u001B[38;5;241m*\u001B[39m (i \u001B[38;5;241m+\u001B[39m \u001B[38;5;241m1\u001B[39m)]\u001B[38;5;241m.\u001B[39mto_dict()\n\u001B[1;32m---> 44\u001B[0m     image_sizes \u001B[38;5;241m=\u001B[39m \u001B[38;5;28;01mawait\u001B[39;00m get_images_sizes(urls_pack)\n\u001B[0;32m     45\u001B[0m     all_sizes_list \u001B[38;5;241m+\u001B[39m\u001B[38;5;241m=\u001B[39m image_sizes\n\u001B[0;32m     47\u001B[0m all_sizes_list[:\u001B[38;5;241m5\u001B[39m]\n",
      "Cell \u001B[1;32mIn[29], line 31\u001B[0m, in \u001B[0;36mget_images_sizes\u001B[1;34m(image_urls_)\u001B[0m\n\u001B[0;32m     22\u001B[0m headers \u001B[38;5;241m=\u001B[39m {\n\u001B[0;32m     23\u001B[0m     \u001B[38;5;124m\"\u001B[39m\u001B[38;5;124muser-agent\u001B[39m\u001B[38;5;124m\"\u001B[39m: (\n\u001B[0;32m     24\u001B[0m         \u001B[38;5;124m\"\u001B[39m\u001B[38;5;124mMozilla/5.0 (Windows NT 10.0; Win64; x64) \u001B[39m\u001B[38;5;124m\"\u001B[39m\n\u001B[1;32m   (...)\u001B[0m\n\u001B[0;32m     27\u001B[0m     )\n\u001B[0;32m     28\u001B[0m }\n\u001B[0;32m     30\u001B[0m \u001B[38;5;28;01masync\u001B[39;00m \u001B[38;5;28;01mwith\u001B[39;00m aiohttp\u001B[38;5;241m.\u001B[39mClientSession(headers\u001B[38;5;241m=\u001B[39mheaders) \u001B[38;5;28;01mas\u001B[39;00m session:\n\u001B[1;32m---> 31\u001B[0m     \u001B[38;5;28;01mreturn\u001B[39;00m \u001B[38;5;28;01mawait\u001B[39;00m asyncio\u001B[38;5;241m.\u001B[39mgather(\n\u001B[0;32m     32\u001B[0m         \u001B[38;5;241m*\u001B[39m[\n\u001B[0;32m     33\u001B[0m             get_size(image_row, image_url, session)\n\u001B[0;32m     34\u001B[0m             \u001B[38;5;28;01mfor\u001B[39;00m image_row, image_url \u001B[38;5;129;01min\u001B[39;00m image_urls_\u001B[38;5;241m.\u001B[39mitems()\n\u001B[0;32m     35\u001B[0m         ]\n\u001B[0;32m     36\u001B[0m     )\n",
      "\u001B[1;31mCancelledError\u001B[0m: "
     ]
    }
   ],
   "source": [
    "async def get_size(row: int, url: str, session: aiohttp.ClientSession):\n",
    "    \"\"\"The coroutine gets the image size from the url\"\"\"\n",
    "    if type(url) != str:\n",
    "        return {row: None}\n",
    "\n",
    "    async with session.get(url) as response:\n",
    "        if response.status != 200:\n",
    "            return {row: \"ImageNotFound\"}\n",
    "\n",
    "        content = await response.content.read()\n",
    "        with Image.open(BytesIO(content)) as image:\n",
    "            image_size = image.size\n",
    "\n",
    "    image_size = f\"{image_size[0]}x{image_size[1]}\"\n",
    "\n",
    "    return {row: image_size}\n",
    "\n",
    "\n",
    "async def get_images_sizes(image_urls_: dict):\n",
    "    \"\"\"Create an async client and event loop\"\"\"\n",
    "\n",
    "    async with aiohttp.ClientSession() as session:\n",
    "        return await asyncio.gather(\n",
    "            *[\n",
    "                get_size(image_row, image_url, session)\n",
    "                for image_row, image_url in image_urls_.items()\n",
    "            ]\n",
    "        )\n",
    "\n",
    "pack_size = 10_000\n",
    "packs_amount = dataframe_size // pack_size + 1\n",
    "\n",
    "all_sizes_list = []\n",
    "for i in range(packs_amount):\n",
    "    urls_pack = image_urls_dataframe[pack_size * i:pack_size * (i + 1)].to_dict()\n",
    "    image_sizes = await get_images_sizes(urls_pack)\n",
    "    all_sizes_list += image_sizes\n",
    "\n",
    "all_sizes_list[:5]"
   ],
   "metadata": {
    "collapsed": false
   }
  },
  {
   "cell_type": "code",
   "execution_count": null,
   "outputs": [],
   "source": [
    "all_sizes = {}\n",
    "\n",
    "for dictionary in all_sizes_list:\n",
    "    all_sizes.update(dictionary)"
   ],
   "metadata": {
    "collapsed": false
   }
  },
  {
   "cell_type": "markdown",
   "source": [
    "Update sheet size column with new data"
   ],
   "metadata": {
    "collapsed": false
   }
  },
  {
   "cell_type": "code",
   "execution_count": null,
   "outputs": [],
   "source": [
    "data = dataframe\n",
    "sizes_list = list(all_sizes.values())\n",
    "new_data = pd.DataFrame({COLUMN_NAME: sizes_list})\n",
    "data.update(new_data)\n",
    "\n",
    "with pd.ExcelWriter(NEW_SHEET_FILE, engine=\"openpyxl\") as writer:\n",
    "    data.to_excel(writer, sheet_name=SHEET_NAME, index=False)\n",
    "\n",
    "new_data.head()"
   ],
   "metadata": {
    "collapsed": false
   }
  },
  {
   "cell_type": "code",
   "execution_count": null,
   "outputs": [],
   "source": [
    "finish = datetime.now()"
   ],
   "metadata": {
    "collapsed": false
   }
  },
  {
   "cell_type": "code",
   "execution_count": null,
   "outputs": [],
   "source": [
    "print(\n",
    "    f\"Start time: {start.strftime('%H:%M:%S')}\\n\"\n",
    "    f\"Finish time: {finish.strftime('%H:%M:%S')}\\n\"\n",
    "    f\"Execution: {(finish - start).total_seconds()} sec\"\n",
    ")"
   ],
   "metadata": {
    "collapsed": false
   }
  },
  {
   "cell_type": "code",
   "execution_count": null,
   "outputs": [],
   "source": [],
   "metadata": {
    "collapsed": false
   }
  }
 ],
 "metadata": {
  "kernelspec": {
   "display_name": "Python 3",
   "language": "python",
   "name": "python3"
  },
  "language_info": {
   "codemirror_mode": {
    "name": "ipython",
    "version": 2
   },
   "file_extension": ".py",
   "mimetype": "text/x-python",
   "name": "python",
   "nbconvert_exporter": "python",
   "pygments_lexer": "ipython2",
   "version": "2.7.6"
  }
 },
 "nbformat": 4,
 "nbformat_minor": 0
}
