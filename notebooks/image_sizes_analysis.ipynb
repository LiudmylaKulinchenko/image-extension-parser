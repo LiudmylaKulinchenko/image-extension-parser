{
 "cells": [
  {
   "cell_type": "markdown",
   "id": "522f01f6-9dd9-4481-8597-8262004639a4",
   "metadata": {},
   "source": [
    "# Analysis of Image Sizes data"
   ]
  },
  {
   "cell_type": "markdown",
   "id": "19f2ecb7-db6f-45fd-a1b0-758762899bc0",
   "metadata": {},
   "source": [
    "Check consistency and accuracy of created size column"
   ]
  },
  {
   "cell_type": "markdown",
   "id": "59a5bc57-b665-4ec1-833f-2dfcc48c0615",
   "metadata": {},
   "source": [
    "## Import necessary libraries"
   ]
  },
  {
   "cell_type": "code",
   "execution_count": 72,
   "id": "d0465dbd-a902-43f1-a701-dc80cdffa73b",
   "metadata": {},
   "outputs": [],
   "source": [
    "import re\n",
    "\n",
    "import pandas as pd"
   ]
  },
  {
   "cell_type": "markdown",
   "id": "3aad2982-7090-47aa-9d49-dd815411ed48",
   "metadata": {},
   "source": [
    "## Load data from Excel file"
   ]
  },
  {
   "cell_type": "code",
   "execution_count": 78,
   "id": "e8a9a2d8-04f1-4f25-ba98-e8d47f145fb7",
   "metadata": {},
   "outputs": [
    {
     "name": "stdout",
     "output_type": "stream",
     "text": [
      "<class 'pandas.core.frame.DataFrame'>\n",
      "RangeIndex: 46888 entries, 0 to 46887\n",
      "Data columns (total 2 columns):\n",
      " #   Column     Non-Null Count  Dtype \n",
      "---  ------     --------------  ----- \n",
      " 0   image_url  46868 non-null  object\n",
      " 1   SIZE       46888 non-null  object\n",
      "dtypes: object(2)\n",
      "memory usage: 732.8+ KB\n"
     ]
    }
   ],
   "source": [
    "df = pd.read_excel(\"../data/ImageSizeExample.xlsx\")\n",
    "\n",
    "df.info()"
   ]
  },
  {
   "cell_type": "code",
   "execution_count": 79,
   "id": "68c3b682-81d9-407d-b5da-0bbecf76f6f9",
   "metadata": {},
   "outputs": [
    {
     "data": {
      "text/plain": [
       "0          575x860\n",
       "1        1080x1080\n",
       "2        1080x1614\n",
       "3        1080x1080\n",
       "4        1080x1614\n",
       "           ...    \n",
       "46883    2301x1080\n",
       "46884    1621x1080\n",
       "46885    1080x1218\n",
       "46886    1080x1080\n",
       "46887    1757x1080\n",
       "Name: SIZE, Length: 46888, dtype: object"
      ]
     },
     "execution_count": 79,
     "metadata": {},
     "output_type": "execute_result"
    }
   ],
   "source": [
    "sizes = df[\"SIZE\"]\n",
    "\n",
    "sizes"
   ]
  },
  {
   "cell_type": "markdown",
   "id": "f070810f-a69a-456e-a8d3-c63d0227b259",
   "metadata": {},
   "source": [
    "## Check valid sizes amount"
   ]
  },
  {
   "cell_type": "code",
   "execution_count": 80,
   "id": "7afc3d6c-89f9-4168-acb1-f7ac532b136f",
   "metadata": {},
   "outputs": [
    {
     "data": {
      "text/plain": [
       "45872"
      ]
     },
     "execution_count": 80,
     "metadata": {},
     "output_type": "execute_result"
    }
   ],
   "source": [
    "size_format = re.compile(r\"^\\d+x\\d+$\")\n",
    "\n",
    "valid_sizes_mask = sizes.apply(lambda x: bool(size_format.match(str(x))))\n",
    "\n",
    "valid_sizes_amount = valid_sizes_mask.sum()\n",
    "\n",
    "valid_sizes_amount"
   ]
  },
  {
   "cell_type": "code",
   "execution_count": 93,
   "id": "a3d46af3-3b21-45d2-8ed3-16263d112087",
   "metadata": {},
   "outputs": [
    {
     "data": {
      "text/plain": [
       "97.83313427742706"
      ]
     },
     "execution_count": 93,
     "metadata": {},
     "output_type": "execute_result"
    }
   ],
   "source": [
    "valid_sizes_amount / sizes.size * 100"
   ]
  },
  {
   "cell_type": "markdown",
   "id": "2a4fa9a6-a69c-4046-8590-88f57d41b44e",
   "metadata": {},
   "source": [
    "Valid sizes part of dataframe is equal to **97,83%**\n",
    "\n",
    "\n",
    "Looks good!"
   ]
  },
  {
   "cell_type": "markdown",
   "id": "cf8b8c30-6cb4-4f0c-ada6-e099f158742e",
   "metadata": {},
   "source": [
    "## Check invalid sizes amount"
   ]
  },
  {
   "cell_type": "code",
   "execution_count": 81,
   "id": "07d88e26-bb84-40b2-a65b-5b31b8293800",
   "metadata": {},
   "outputs": [
    {
     "data": {
      "text/plain": [
       "1016"
      ]
     },
     "execution_count": 81,
     "metadata": {},
     "output_type": "execute_result"
    }
   ],
   "source": [
    "invalid_sizes = sizes[~valid_sizes_mask]\n",
    "invalid_sizes_amount = invalid_sizes.size\n",
    "\n",
    "invalid_sizes_amount"
   ]
  },
  {
   "cell_type": "code",
   "execution_count": 94,
   "id": "3c11f1fa-855e-4d14-9d6e-8ec756853079",
   "metadata": {},
   "outputs": [
    {
     "data": {
      "text/plain": [
       "2.1668657225729397"
      ]
     },
     "execution_count": 94,
     "metadata": {},
     "output_type": "execute_result"
    }
   ],
   "source": [
    "invalid_sizes_amount / sizes.size * 100"
   ]
  },
  {
   "cell_type": "markdown",
   "id": "10d3cdb4-f28f-40a8-b309-6081276ef487",
   "metadata": {},
   "source": [
    "Invalid sizes part of dataframe equal to **2,17%**"
   ]
  },
  {
   "cell_type": "markdown",
   "id": "3d782c28-d9ad-4e7f-98b8-47e0a04c9f34",
   "metadata": {},
   "source": [
    "### Check invalid sizes values"
   ]
  },
  {
   "cell_type": "code",
   "execution_count": 103,
   "id": "19b97067-b121-475e-8703-0bcae31818a9",
   "metadata": {},
   "outputs": [
    {
     "data": {
      "text/plain": [
       "array(['ImageNotFound', 'UrlNotProvided'], dtype=object)"
      ]
     },
     "execution_count": 103,
     "metadata": {},
     "output_type": "execute_result"
    }
   ],
   "source": [
    "invalid_sizes.unique()"
   ]
  },
  {
   "cell_type": "markdown",
   "id": "70d4b4f4-bd82-4014-9afa-8723d6c32fba",
   "metadata": {},
   "source": [
    "In invalid sizes we've got ImageNotFound and UrlNotProvided"
   ]
  },
  {
   "cell_type": "markdown",
   "id": "bff2af8b-1760-425d-a514-30531d5edd15",
   "metadata": {},
   "source": [
    "### Check ImageNotFound values amount (404 status code when retrieving image)"
   ]
  },
  {
   "cell_type": "code",
   "execution_count": 104,
   "id": "d066863b-1b03-436d-aa17-d31e1d633df5",
   "metadata": {},
   "outputs": [
    {
     "data": {
      "text/plain": [
       "996"
      ]
     },
     "execution_count": 104,
     "metadata": {},
     "output_type": "execute_result"
    }
   ],
   "source": [
    "image_not_found_amount = invalid_sizes[invalid_sizes == \"ImageNotFound\"].count()\n",
    "\n",
    "image_not_found_amount"
   ]
  },
  {
   "cell_type": "code",
   "execution_count": 105,
   "id": "8d69aff8-e427-4a02-8ec1-2b0e614c1ea9",
   "metadata": {},
   "outputs": [
    {
     "data": {
      "text/plain": [
       "2.1242108855144175"
      ]
     },
     "execution_count": 105,
     "metadata": {},
     "output_type": "execute_result"
    }
   ],
   "source": [
    "image_not_found_amount / sizes.size * 100"
   ]
  },
  {
   "cell_type": "markdown",
   "id": "6a4557a0-fcd1-4f51-9078-ae3b64da4cea",
   "metadata": {},
   "source": [
    "ImageNotFound part of DataFrame is **2,12%**"
   ]
  },
  {
   "cell_type": "markdown",
   "id": "25d39300-5d46-4305-b210-1c175a58dab4",
   "metadata": {},
   "source": [
    "### Check UrlNotProvided values amount (no urls in corresonding rows)"
   ]
  },
  {
   "cell_type": "code",
   "execution_count": 106,
   "id": "b5aed27d-ca4c-4f85-aed6-a6b208e17108",
   "metadata": {},
   "outputs": [
    {
     "data": {
      "text/plain": [
       "20"
      ]
     },
     "execution_count": 106,
     "metadata": {},
     "output_type": "execute_result"
    }
   ],
   "source": [
    "url_not_provided_amount = invalid_sizes[invalid_sizes == \"UrlNotProvided\"].count()\n",
    "\n",
    "url_not_provided_amount"
   ]
  },
  {
   "cell_type": "code",
   "execution_count": 107,
   "id": "23556903-a35a-4e21-9c97-aac2db70d33b",
   "metadata": {},
   "outputs": [
    {
     "data": {
      "text/plain": [
       "0.04265483705852244"
      ]
     },
     "execution_count": 107,
     "metadata": {},
     "output_type": "execute_result"
    }
   ],
   "source": [
    "url_not_provided_amount / sizes.size * 100"
   ]
  },
  {
   "cell_type": "markdown",
   "id": "35af328d-8411-4e5b-ab3b-5617fb84cb4a",
   "metadata": {},
   "source": [
    "A really small amount (**0.04%**) of urls for images were not provided"
   ]
  },
  {
   "cell_type": "markdown",
   "id": "1fe85a74-b62a-4d33-99c3-0dfa6e7244a3",
   "metadata": {},
   "source": [
    "## Results:\n",
    "\n",
    "**97,83% - Valid Image sizes**\n",
    "\n",
    "\n",
    "2,17% - Invalid Image sizes\n",
    "\n",
    "from which:\n",
    "* **~2,12% ImageNotFound**\n",
    "\n",
    "* **~0.04% UrlNotProvided**"
   ]
  }
 ],
 "metadata": {
  "kernelspec": {
   "display_name": "Python 3 (ipykernel)",
   "language": "python",
   "name": "python3"
  },
  "language_info": {
   "codemirror_mode": {
    "name": "ipython",
    "version": 3
   },
   "file_extension": ".py",
   "mimetype": "text/x-python",
   "name": "python",
   "nbconvert_exporter": "python",
   "pygments_lexer": "ipython3",
   "version": "3.12.2"
  }
 },
 "nbformat": 4,
 "nbformat_minor": 5
}
