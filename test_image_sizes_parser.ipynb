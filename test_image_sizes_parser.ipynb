{
 "cells": [
  {
   "cell_type": "markdown",
   "source": [
    "# Test get images sizes and add them to the sheet\n",
    "Test image-sizes-parser with less data"
   ],
   "metadata": {
    "collapsed": false
   }
  },
  {
   "cell_type": "code",
   "execution_count": 86,
   "outputs": [],
   "source": [
    "import pandas as pd\n",
    "import asyncio\n",
    "from io import BytesIO\n",
    "from datetime import datetime\n",
    "\n",
    "import aiohttp\n",
    "from PIL import Image"
   ],
   "metadata": {
    "collapsed": false
   }
  },
  {
   "cell_type": "code",
   "execution_count": 87,
   "outputs": [],
   "source": [
    "SHEET_ID = \"1QX2IhFyYmGDFMvovw2WFz3wAT4piAZ_8hi5Lzp7LjV0\"\n",
    "SHEET_NAME = \"feed\"\n",
    "NEW_SHEET_FILE = \"TestParserImageSize.xlsx\"\n",
    "COLUMN_NAME = \"SIZE\""
   ],
   "metadata": {
    "collapsed": false
   }
  },
  {
   "cell_type": "code",
   "execution_count": 88,
   "outputs": [],
   "source": [
    "start = datetime.now()"
   ],
   "metadata": {
    "collapsed": false
   }
  },
  {
   "cell_type": "markdown",
   "source": [
    "Get data from sheet (300 rows for test)"
   ],
   "metadata": {
    "collapsed": false
   }
  },
  {
   "cell_type": "code",
   "execution_count": 89,
   "outputs": [
    {
     "data": {
      "text/plain": "                                           image_url     SIZE\n0  https://data.sanitino.eu/PRODUCT-33916/8607663...  575x860\n1  https://data.sanitino.eu/PRODUCT-62434/f7aa3c2...      NaN\n2  https://data.sanitino.eu/PRODUCT-33915/8607663...      NaN\n3  https://data.sanitino.eu/PRODUCT-62426/506d67b...      NaN\n4  https://data.sanitino.eu/PRODUCT-33893/ccd99b4...      NaN",
      "text/html": "<div>\n<style scoped>\n    .dataframe tbody tr th:only-of-type {\n        vertical-align: middle;\n    }\n\n    .dataframe tbody tr th {\n        vertical-align: top;\n    }\n\n    .dataframe thead th {\n        text-align: right;\n    }\n</style>\n<table border=\"1\" class=\"dataframe\">\n  <thead>\n    <tr style=\"text-align: right;\">\n      <th></th>\n      <th>image_url</th>\n      <th>SIZE</th>\n    </tr>\n  </thead>\n  <tbody>\n    <tr>\n      <th>0</th>\n      <td>https://data.sanitino.eu/PRODUCT-33916/8607663...</td>\n      <td>575x860</td>\n    </tr>\n    <tr>\n      <th>1</th>\n      <td>https://data.sanitino.eu/PRODUCT-62434/f7aa3c2...</td>\n      <td>NaN</td>\n    </tr>\n    <tr>\n      <th>2</th>\n      <td>https://data.sanitino.eu/PRODUCT-33915/8607663...</td>\n      <td>NaN</td>\n    </tr>\n    <tr>\n      <th>3</th>\n      <td>https://data.sanitino.eu/PRODUCT-62426/506d67b...</td>\n      <td>NaN</td>\n    </tr>\n    <tr>\n      <th>4</th>\n      <td>https://data.sanitino.eu/PRODUCT-33893/ccd99b4...</td>\n      <td>NaN</td>\n    </tr>\n  </tbody>\n</table>\n</div>"
     },
     "execution_count": 89,
     "metadata": {},
     "output_type": "execute_result"
    }
   ],
   "source": [
    "sheet_url = (\n",
    "    f\"https://docs.google.com/spreadsheets/d/\"\n",
    "    f\"{SHEET_ID}/gviz/tq?tqx=out:csv&sheet={SHEET_NAME}\"\n",
    ")\n",
    "dataframe = pd.read_csv(sheet_url)[:300]\n",
    "dataframe.head()"
   ],
   "metadata": {
    "collapsed": false
   }
  },
  {
   "cell_type": "code",
   "execution_count": 99,
   "outputs": [
    {
     "data": {
      "text/plain": "300"
     },
     "execution_count": 99,
     "metadata": {},
     "output_type": "execute_result"
    }
   ],
   "source": [
    "image_urls_dataframe = dataframe[\"image_url\"]\n",
    "dataframe_size = image_urls_dataframe.size\n",
    "dataframe_size"
   ],
   "metadata": {
    "collapsed": false
   }
  },
  {
   "cell_type": "markdown",
   "source": [
    "Divide the urls into dictionaries (packs) <= 100 each & get image sizes\n",
    "(In the main parser the urls divides into packs <= 10_000 each)"
   ],
   "metadata": {
    "collapsed": false
   }
  },
  {
   "cell_type": "code",
   "execution_count": 100,
   "outputs": [
    {
     "data": {
      "text/plain": "[{0: '1080x1614'},\n {1: '1080x1080'},\n {2: '1080x1614'},\n {3: '1080x1080'},\n {4: '1080x1614'}]"
     },
     "execution_count": 100,
     "metadata": {},
     "output_type": "execute_result"
    }
   ],
   "source": [
    "async def get_size(row: int, url: str, session: aiohttp.ClientSession):\n",
    "    \"\"\"The coroutine gets the image size from the url\"\"\"\n",
    "    if type(url) != str:\n",
    "        return {row: None}\n",
    "\n",
    "    async with session.get(url) as response:\n",
    "        if response.status != 200:\n",
    "            return {row: \"ImageNotFound\"}\n",
    "\n",
    "        content = await response.content.read()\n",
    "        with Image.open(BytesIO(content)) as image:\n",
    "            image_size = image.size\n",
    "\n",
    "    image_size = f\"{image_size[0]}x{image_size[1]}\"\n",
    "\n",
    "    return {row: image_size}\n",
    "\n",
    "\n",
    "async def get_images_sizes(image_urls_: dict):\n",
    "    \"\"\"Create an async client and event loop\"\"\"\n",
    "    async with aiohttp.ClientSession() as session:\n",
    "        return await asyncio.gather(\n",
    "            *[\n",
    "                get_size(image_row, image_url, session)\n",
    "                for image_row, image_url in image_urls_.items()\n",
    "            ]\n",
    "        )\n",
    "\n",
    "pack_size = 100\n",
    "packs_amount = dataframe_size // pack_size + 1\n",
    "\n",
    "all_sizes_list = []\n",
    "for i in range(packs_amount):\n",
    "    urls_pack = image_urls_dataframe[pack_size * i:pack_size * (i + 1)].to_dict()\n",
    "    image_sizes = await get_images_sizes(urls_pack)\n",
    "    all_sizes_list += image_sizes\n",
    "\n",
    "all_sizes_list[:5]"
   ],
   "metadata": {
    "collapsed": false
   }
  },
  {
   "cell_type": "code",
   "execution_count": 101,
   "outputs": [],
   "source": [
    "all_sizes = {}\n",
    "\n",
    "for dictionary in all_sizes_list:\n",
    "    all_sizes.update(dictionary)"
   ],
   "metadata": {
    "collapsed": false
   }
  },
  {
   "cell_type": "markdown",
   "source": [
    "Update sheet size column with new data"
   ],
   "metadata": {
    "collapsed": false
   }
  },
  {
   "cell_type": "code",
   "execution_count": 103,
   "outputs": [],
   "source": [
    "data = dataframe\n",
    "sizes_list = list(all_sizes.values())\n",
    "new_data = pd.DataFrame({COLUMN_NAME: sizes_list})\n",
    "data.update(new_data)\n",
    "\n",
    "with pd.ExcelWriter(NEW_SHEET_FILE, engine=\"openpyxl\") as writer:\n",
    "    data.to_excel(writer, sheet_name=SHEET_NAME, index=False)\n",
    "\n",
    "new_data.head()"
   ],
   "metadata": {
    "collapsed": false
   }
  },
  {
   "cell_type": "code",
   "execution_count": 104,
   "outputs": [],
   "source": [
    "finish = datetime.now()"
   ],
   "metadata": {
    "collapsed": false
   }
  },
  {
   "cell_type": "code",
   "execution_count": 105,
   "outputs": [
    {
     "name": "stdout",
     "output_type": "stream",
     "text": [
      "Start time: 13:45:06\n",
      "Finish time: 13:48:10\n",
      "Execution: 183.509687 sec\n"
     ]
    }
   ],
   "source": [
    "print(\n",
    "    f\"Start time: {start.strftime('%H:%M:%S')}\\n\"\n",
    "    f\"Finish time: {finish.strftime('%H:%M:%S')}\\n\"\n",
    "    f\"Execution: {(finish - start).total_seconds()} sec\"\n",
    ")"
   ],
   "metadata": {
    "collapsed": false
   }
  },
  {
   "cell_type": "code",
   "execution_count": null,
   "outputs": [],
   "source": [],
   "metadata": {
    "collapsed": false
   }
  }
 ],
 "metadata": {
  "kernelspec": {
   "display_name": "Python 3",
   "language": "python",
   "name": "python3"
  },
  "language_info": {
   "codemirror_mode": {
    "name": "ipython",
    "version": 2
   },
   "file_extension": ".py",
   "mimetype": "text/x-python",
   "name": "python",
   "nbconvert_exporter": "python",
   "pygments_lexer": "ipython2",
   "version": "2.7.6"
  }
 },
 "nbformat": 4,
 "nbformat_minor": 0
}
